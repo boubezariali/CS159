{
  "nbformat": 4,
  "nbformat_minor": 0,
  "metadata": {
    "accelerator": "GPU",
    "colab": {
      "name": "q5.ipynb",
      "provenance": [],
      "collapsed_sections": [],
      "toc_visible": true
    },
    "kernelspec": {
      "display_name": "Python 3",
      "language": "python",
      "name": "python3"
    },
    "language_info": {
      "codemirror_mode": {
        "name": "ipython",
        "version": 3
      },
      "file_extension": ".py",
      "mimetype": "text/x-python",
      "name": "python",
      "nbconvert_exporter": "python",
      "pygments_lexer": "ipython3",
      "version": "3.7.7"
    },
    "widgets": {
      "application/vnd.jupyter.widget-state+json": {
        "965f0752225f4ce4abf0c36f0b92437a": {
          "model_module": "@jupyter-widgets/controls",
          "model_name": "HBoxModel",
          "state": {
            "_view_name": "HBoxView",
            "_dom_classes": [],
            "_model_name": "HBoxModel",
            "_view_module": "@jupyter-widgets/controls",
            "_model_module_version": "1.5.0",
            "_view_count": null,
            "_view_module_version": "1.5.0",
            "box_style": "",
            "layout": "IPY_MODEL_472ed3b09b1848c1bcd13c140ad2ec7e",
            "_model_module": "@jupyter-widgets/controls",
            "children": [
              "IPY_MODEL_04538477224349d4a7d7b550c659ca5c",
              "IPY_MODEL_834508ba793441399eb91161c2e99a90"
            ]
          }
        },
        "472ed3b09b1848c1bcd13c140ad2ec7e": {
          "model_module": "@jupyter-widgets/base",
          "model_name": "LayoutModel",
          "state": {
            "_view_name": "LayoutView",
            "grid_template_rows": null,
            "right": null,
            "justify_content": null,
            "_view_module": "@jupyter-widgets/base",
            "overflow": null,
            "_model_module_version": "1.2.0",
            "_view_count": null,
            "flex_flow": null,
            "width": null,
            "min_width": null,
            "border": null,
            "align_items": null,
            "bottom": null,
            "_model_module": "@jupyter-widgets/base",
            "top": null,
            "grid_column": null,
            "overflow_y": null,
            "overflow_x": null,
            "grid_auto_flow": null,
            "grid_area": null,
            "grid_template_columns": null,
            "flex": null,
            "_model_name": "LayoutModel",
            "justify_items": null,
            "grid_row": null,
            "max_height": null,
            "align_content": null,
            "visibility": null,
            "align_self": null,
            "height": null,
            "min_height": null,
            "padding": null,
            "grid_auto_rows": null,
            "grid_gap": null,
            "max_width": null,
            "order": null,
            "_view_module_version": "1.2.0",
            "grid_template_areas": null,
            "object_position": null,
            "object_fit": null,
            "grid_auto_columns": null,
            "margin": null,
            "display": null,
            "left": null
          }
        },
        "04538477224349d4a7d7b550c659ca5c": {
          "model_module": "@jupyter-widgets/controls",
          "model_name": "FloatProgressModel",
          "state": {
            "_view_name": "ProgressView",
            "style": "IPY_MODEL_897bbccf264b4dd29392850be3dfddc9",
            "_dom_classes": [],
            "description": "",
            "_model_name": "FloatProgressModel",
            "bar_style": "success",
            "max": 170498071,
            "_view_module": "@jupyter-widgets/controls",
            "_model_module_version": "1.5.0",
            "value": 170498071,
            "_view_count": null,
            "_view_module_version": "1.5.0",
            "orientation": "horizontal",
            "min": 0,
            "description_tooltip": null,
            "_model_module": "@jupyter-widgets/controls",
            "layout": "IPY_MODEL_58bc8dad9272472ea05a54c521e53264"
          }
        },
        "834508ba793441399eb91161c2e99a90": {
          "model_module": "@jupyter-widgets/controls",
          "model_name": "HTMLModel",
          "state": {
            "_view_name": "HTMLView",
            "style": "IPY_MODEL_06603c67ef504ba8ad7f2d198c3dadd3",
            "_dom_classes": [],
            "description": "",
            "_model_name": "HTMLModel",
            "placeholder": "​",
            "_view_module": "@jupyter-widgets/controls",
            "_model_module_version": "1.5.0",
            "value": " 170499072/? [00:05&lt;00:00, 31243680.09it/s]",
            "_view_count": null,
            "_view_module_version": "1.5.0",
            "description_tooltip": null,
            "_model_module": "@jupyter-widgets/controls",
            "layout": "IPY_MODEL_5e2ef67e89aa429baed0b3ea07b8b843"
          }
        },
        "897bbccf264b4dd29392850be3dfddc9": {
          "model_module": "@jupyter-widgets/controls",
          "model_name": "ProgressStyleModel",
          "state": {
            "_view_name": "StyleView",
            "_model_name": "ProgressStyleModel",
            "description_width": "initial",
            "_view_module": "@jupyter-widgets/base",
            "_model_module_version": "1.5.0",
            "_view_count": null,
            "_view_module_version": "1.2.0",
            "bar_color": null,
            "_model_module": "@jupyter-widgets/controls"
          }
        },
        "58bc8dad9272472ea05a54c521e53264": {
          "model_module": "@jupyter-widgets/base",
          "model_name": "LayoutModel",
          "state": {
            "_view_name": "LayoutView",
            "grid_template_rows": null,
            "right": null,
            "justify_content": null,
            "_view_module": "@jupyter-widgets/base",
            "overflow": null,
            "_model_module_version": "1.2.0",
            "_view_count": null,
            "flex_flow": null,
            "width": null,
            "min_width": null,
            "border": null,
            "align_items": null,
            "bottom": null,
            "_model_module": "@jupyter-widgets/base",
            "top": null,
            "grid_column": null,
            "overflow_y": null,
            "overflow_x": null,
            "grid_auto_flow": null,
            "grid_area": null,
            "grid_template_columns": null,
            "flex": null,
            "_model_name": "LayoutModel",
            "justify_items": null,
            "grid_row": null,
            "max_height": null,
            "align_content": null,
            "visibility": null,
            "align_self": null,
            "height": null,
            "min_height": null,
            "padding": null,
            "grid_auto_rows": null,
            "grid_gap": null,
            "max_width": null,
            "order": null,
            "_view_module_version": "1.2.0",
            "grid_template_areas": null,
            "object_position": null,
            "object_fit": null,
            "grid_auto_columns": null,
            "margin": null,
            "display": null,
            "left": null
          }
        },
        "06603c67ef504ba8ad7f2d198c3dadd3": {
          "model_module": "@jupyter-widgets/controls",
          "model_name": "DescriptionStyleModel",
          "state": {
            "_view_name": "StyleView",
            "_model_name": "DescriptionStyleModel",
            "description_width": "",
            "_view_module": "@jupyter-widgets/base",
            "_model_module_version": "1.5.0",
            "_view_count": null,
            "_view_module_version": "1.2.0",
            "_model_module": "@jupyter-widgets/controls"
          }
        },
        "5e2ef67e89aa429baed0b3ea07b8b843": {
          "model_module": "@jupyter-widgets/base",
          "model_name": "LayoutModel",
          "state": {
            "_view_name": "LayoutView",
            "grid_template_rows": null,
            "right": null,
            "justify_content": null,
            "_view_module": "@jupyter-widgets/base",
            "overflow": null,
            "_model_module_version": "1.2.0",
            "_view_count": null,
            "flex_flow": null,
            "width": null,
            "min_width": null,
            "border": null,
            "align_items": null,
            "bottom": null,
            "_model_module": "@jupyter-widgets/base",
            "top": null,
            "grid_column": null,
            "overflow_y": null,
            "overflow_x": null,
            "grid_auto_flow": null,
            "grid_area": null,
            "grid_template_columns": null,
            "flex": null,
            "_model_name": "LayoutModel",
            "justify_items": null,
            "grid_row": null,
            "max_height": null,
            "align_content": null,
            "visibility": null,
            "align_self": null,
            "height": null,
            "min_height": null,
            "padding": null,
            "grid_auto_rows": null,
            "grid_gap": null,
            "max_width": null,
            "order": null,
            "_view_module_version": "1.2.0",
            "grid_template_areas": null,
            "object_position": null,
            "object_fit": null,
            "grid_auto_columns": null,
            "margin": null,
            "display": null,
            "left": null
          }
        },
        "12a2caf63b774ac08c5fe83b6182d0d4": {
          "model_module": "@jupyter-widgets/controls",
          "model_name": "HBoxModel",
          "state": {
            "_view_name": "HBoxView",
            "_dom_classes": [],
            "_model_name": "HBoxModel",
            "_view_module": "@jupyter-widgets/controls",
            "_model_module_version": "1.5.0",
            "_view_count": null,
            "_view_module_version": "1.5.0",
            "box_style": "",
            "layout": "IPY_MODEL_80725adac7fc406d9c13d0ddd3f86ddc",
            "_model_module": "@jupyter-widgets/controls",
            "children": [
              "IPY_MODEL_6efe2622be234b789fdba73eacf59cf8",
              "IPY_MODEL_f55ac1c2761d4fbfa00f20b0bb271ba6"
            ]
          }
        },
        "80725adac7fc406d9c13d0ddd3f86ddc": {
          "model_module": "@jupyter-widgets/base",
          "model_name": "LayoutModel",
          "state": {
            "_view_name": "LayoutView",
            "grid_template_rows": null,
            "right": null,
            "justify_content": null,
            "_view_module": "@jupyter-widgets/base",
            "overflow": null,
            "_model_module_version": "1.2.0",
            "_view_count": null,
            "flex_flow": null,
            "width": null,
            "min_width": null,
            "border": null,
            "align_items": null,
            "bottom": null,
            "_model_module": "@jupyter-widgets/base",
            "top": null,
            "grid_column": null,
            "overflow_y": null,
            "overflow_x": null,
            "grid_auto_flow": null,
            "grid_area": null,
            "grid_template_columns": null,
            "flex": null,
            "_model_name": "LayoutModel",
            "justify_items": null,
            "grid_row": null,
            "max_height": null,
            "align_content": null,
            "visibility": null,
            "align_self": null,
            "height": null,
            "min_height": null,
            "padding": null,
            "grid_auto_rows": null,
            "grid_gap": null,
            "max_width": null,
            "order": null,
            "_view_module_version": "1.2.0",
            "grid_template_areas": null,
            "object_position": null,
            "object_fit": null,
            "grid_auto_columns": null,
            "margin": null,
            "display": null,
            "left": null
          }
        },
        "6efe2622be234b789fdba73eacf59cf8": {
          "model_module": "@jupyter-widgets/controls",
          "model_name": "FloatProgressModel",
          "state": {
            "_view_name": "ProgressView",
            "style": "IPY_MODEL_12cd56d1a18e4822a4c75dd23dae7c8e",
            "_dom_classes": [],
            "description": "100%",
            "_model_name": "FloatProgressModel",
            "bar_style": "success",
            "max": 1000,
            "_view_module": "@jupyter-widgets/controls",
            "_model_module_version": "1.5.0",
            "value": 1000,
            "_view_count": null,
            "_view_module_version": "1.5.0",
            "orientation": "horizontal",
            "min": 0,
            "description_tooltip": null,
            "_model_module": "@jupyter-widgets/controls",
            "layout": "IPY_MODEL_54873b0dd76742d1ad1aab1a126f34be"
          }
        },
        "f55ac1c2761d4fbfa00f20b0bb271ba6": {
          "model_module": "@jupyter-widgets/controls",
          "model_name": "HTMLModel",
          "state": {
            "_view_name": "HTMLView",
            "style": "IPY_MODEL_94ca3e2a79174707afb417c094dc57bd",
            "_dom_classes": [],
            "description": "",
            "_model_name": "HTMLModel",
            "placeholder": "​",
            "_view_module": "@jupyter-widgets/controls",
            "_model_module_version": "1.5.0",
            "value": " 1000/1000 [09:09&lt;00:00,  1.82it/s]",
            "_view_count": null,
            "_view_module_version": "1.5.0",
            "description_tooltip": null,
            "_model_module": "@jupyter-widgets/controls",
            "layout": "IPY_MODEL_a960eb13084b4790861a229280d4424b"
          }
        },
        "12cd56d1a18e4822a4c75dd23dae7c8e": {
          "model_module": "@jupyter-widgets/controls",
          "model_name": "ProgressStyleModel",
          "state": {
            "_view_name": "StyleView",
            "_model_name": "ProgressStyleModel",
            "description_width": "initial",
            "_view_module": "@jupyter-widgets/base",
            "_model_module_version": "1.5.0",
            "_view_count": null,
            "_view_module_version": "1.2.0",
            "bar_color": null,
            "_model_module": "@jupyter-widgets/controls"
          }
        },
        "54873b0dd76742d1ad1aab1a126f34be": {
          "model_module": "@jupyter-widgets/base",
          "model_name": "LayoutModel",
          "state": {
            "_view_name": "LayoutView",
            "grid_template_rows": null,
            "right": null,
            "justify_content": null,
            "_view_module": "@jupyter-widgets/base",
            "overflow": null,
            "_model_module_version": "1.2.0",
            "_view_count": null,
            "flex_flow": null,
            "width": null,
            "min_width": null,
            "border": null,
            "align_items": null,
            "bottom": null,
            "_model_module": "@jupyter-widgets/base",
            "top": null,
            "grid_column": null,
            "overflow_y": null,
            "overflow_x": null,
            "grid_auto_flow": null,
            "grid_area": null,
            "grid_template_columns": null,
            "flex": null,
            "_model_name": "LayoutModel",
            "justify_items": null,
            "grid_row": null,
            "max_height": null,
            "align_content": null,
            "visibility": null,
            "align_self": null,
            "height": null,
            "min_height": null,
            "padding": null,
            "grid_auto_rows": null,
            "grid_gap": null,
            "max_width": null,
            "order": null,
            "_view_module_version": "1.2.0",
            "grid_template_areas": null,
            "object_position": null,
            "object_fit": null,
            "grid_auto_columns": null,
            "margin": null,
            "display": null,
            "left": null
          }
        },
        "94ca3e2a79174707afb417c094dc57bd": {
          "model_module": "@jupyter-widgets/controls",
          "model_name": "DescriptionStyleModel",
          "state": {
            "_view_name": "StyleView",
            "_model_name": "DescriptionStyleModel",
            "description_width": "",
            "_view_module": "@jupyter-widgets/base",
            "_model_module_version": "1.5.0",
            "_view_count": null,
            "_view_module_version": "1.2.0",
            "_model_module": "@jupyter-widgets/controls"
          }
        },
        "a960eb13084b4790861a229280d4424b": {
          "model_module": "@jupyter-widgets/base",
          "model_name": "LayoutModel",
          "state": {
            "_view_name": "LayoutView",
            "grid_template_rows": null,
            "right": null,
            "justify_content": null,
            "_view_module": "@jupyter-widgets/base",
            "overflow": null,
            "_model_module_version": "1.2.0",
            "_view_count": null,
            "flex_flow": null,
            "width": null,
            "min_width": null,
            "border": null,
            "align_items": null,
            "bottom": null,
            "_model_module": "@jupyter-widgets/base",
            "top": null,
            "grid_column": null,
            "overflow_y": null,
            "overflow_x": null,
            "grid_auto_flow": null,
            "grid_area": null,
            "grid_template_columns": null,
            "flex": null,
            "_model_name": "LayoutModel",
            "justify_items": null,
            "grid_row": null,
            "max_height": null,
            "align_content": null,
            "visibility": null,
            "align_self": null,
            "height": null,
            "min_height": null,
            "padding": null,
            "grid_auto_rows": null,
            "grid_gap": null,
            "max_width": null,
            "order": null,
            "_view_module_version": "1.2.0",
            "grid_template_areas": null,
            "object_position": null,
            "object_fit": null,
            "grid_auto_columns": null,
            "margin": null,
            "display": null,
            "left": null
          }
        }
      }
    }
  },
  "cells": [
    {
      "cell_type": "markdown",
      "metadata": {
        "id": "V8fonl2RdbzS"
      },
      "source": [
        "# **CS 159 · Homework 3 · Question 5**\n",
        "\n"
      ]
    },
    {
      "cell_type": "markdown",
      "metadata": {
        "id": "zesvMyuQd-sI"
      },
      "source": [
        "## Imports"
      ]
    },
    {
      "cell_type": "code",
      "metadata": {
        "id": "xL3MHWLRcl-j"
      },
      "source": [
        "import math\n",
        "import numpy as np\n",
        "from tqdm.notebook import tqdm\n",
        "\n",
        "import torch, torchvision\n",
        "import torch.nn as nn\n",
        "import torch.nn.functional as F\n",
        "\n",
        "%matplotlib inline\n",
        "import matplotlib.pyplot as plt"
      ],
      "execution_count": 1,
      "outputs": []
    },
    {
      "cell_type": "markdown",
      "metadata": {
        "id": "5SaIwN63e5ub"
      },
      "source": [
        "## Define MLP"
      ]
    },
    {
      "cell_type": "code",
      "metadata": {
        "id": "-n3qOc0be7-3"
      },
      "source": [
        "class MLP(nn.Module):\n",
        "    def __init__(self, depth, width):\n",
        "        super(MLP, self).__init__()\n",
        "\n",
        "        self.initial = nn.Linear(3072, width, bias=False)\n",
        "        self.layers = nn.ModuleList([nn.Linear(width, width, bias=False) for _ in range(depth-2)])\n",
        "        self.final = nn.Linear(width, 1, bias=False)\n",
        "\n",
        "    def forward(self, x):\n",
        "        x = self.initial(x)\n",
        "        x = F.relu(x) * math.sqrt(2)\n",
        "        for layer in self.layers:\n",
        "            x = layer(x)\n",
        "            x = F.relu(x) * math.sqrt(2)\n",
        "        return self.final(x)"
      ],
      "execution_count": 2,
      "outputs": []
    },
    {
      "cell_type": "markdown",
      "metadata": {
        "id": "xu77nUVLfm6V"
      },
      "source": [
        "## Get a CIFAR-10 image and create three more noisy copies\n",
        "\n",
        "\n",
        "\n"
      ]
    },
    {
      "cell_type": "code",
      "metadata": {
        "colab": {
          "base_uri": "https://localhost:8080/",
          "height": 1000,
          "referenced_widgets": [
            "965f0752225f4ce4abf0c36f0b92437a",
            "472ed3b09b1848c1bcd13c140ad2ec7e",
            "04538477224349d4a7d7b550c659ca5c",
            "834508ba793441399eb91161c2e99a90",
            "897bbccf264b4dd29392850be3dfddc9",
            "58bc8dad9272472ea05a54c521e53264",
            "06603c67ef504ba8ad7f2d198c3dadd3",
            "5e2ef67e89aa429baed0b3ea07b8b843"
          ]
        },
        "id": "XhoJRn1WfoDH",
        "outputId": "b5a53558-4e2d-4fab-d7dc-4f45942f0c53"
      },
      "source": [
        "trainset = torchvision.datasets.CIFAR10(\n",
        "    root='./data', train=True, download=True, transform=torchvision.transforms.ToTensor())\n",
        "\n",
        "image = trainset[1][0].permute(1,2,0).clamp_(0,1)\n",
        "\n",
        "# create noisy images\n",
        "image_ = (image + torch.randn_like(image)*0.05).clamp_(0,1)\n",
        "image__ = (image + torch.randn_like(image)*0.25).clamp_(0,1)\n",
        "image___ = (image + torch.randn_like(image)*0.5).clamp_(0,1)\n",
        "\n",
        "# plot images\n",
        "plt.axis('off'); plt.imshow(image); plt.show()\n",
        "plt.axis('off'); plt.imshow(image_); plt.show()\n",
        "plt.axis('off'); plt.imshow(image__); plt.show()\n",
        "plt.axis('off'); plt.imshow(image___); plt.show()\n",
        "\n",
        "# flatten images to pass through MLP\n",
        "image = image.flatten().unsqueeze(0)\n",
        "image_ = image_.flatten().unsqueeze(0)\n",
        "image__ = image__.flatten().unsqueeze(0)\n",
        "image___ = image___.flatten().unsqueeze(0)\n",
        "\n",
        "# concatenate into single batch\n",
        "input = torch.cat((image,image_,image__,image___), 0)\n",
        "\n",
        "# rescale inputs to get a well scaled output\n",
        "input /= input.norm(dim=1, keepdim=True) \n",
        "input *= math.sqrt(input.shape[1])"
      ],
      "execution_count": 3,
      "outputs": [
        {
          "output_type": "stream",
          "text": [
            "Downloading https://www.cs.toronto.edu/~kriz/cifar-10-python.tar.gz to ./data/cifar-10-python.tar.gz\n"
          ],
          "name": "stdout"
        },
        {
          "output_type": "display_data",
          "data": {
            "application/vnd.jupyter.widget-view+json": {
              "model_id": "965f0752225f4ce4abf0c36f0b92437a",
              "version_minor": 0,
              "version_major": 2
            },
            "text/plain": [
              "HBox(children=(FloatProgress(value=0.0, max=170498071.0), HTML(value='')))"
            ]
          },
          "metadata": {
            "tags": []
          }
        },
        {
          "output_type": "stream",
          "text": [
            "\n",
            "Extracting ./data/cifar-10-python.tar.gz to ./data\n"
          ],
          "name": "stdout"
        },
        {
          "output_type": "display_data",
          "data": {
            "image/png": "[encoded data removed]",
            "text/plain": [
              "<Figure size 432x288 with 1 Axes>"
            ]
          },
          "metadata": {
            "tags": [],
            "needs_background": "light"
          }
        },
        {
          "output_type": "display_data",
          "data": {
            "image/png": "[encoded data removed]",
            "text/plain": [
              "<Figure size 432x288 with 1 Axes>"
            ]
          },
          "metadata": {
            "tags": [],
            "needs_background": "light"
          }
        },
        {
          "output_type": "display_data",
          "data": {
            "image/png": "[encoded data removed]",
            "text/plain": [
              "<Figure size 432x288 with 1 Axes>"
            ]
          },
          "metadata": {
            "tags": [],
            "needs_background": "light"
          }
        },
        {
          "output_type": "display_data",
          "data": {
            "image/png": "[encoded data removed]",
            "text/plain": [
              "<Figure size 432x288 with 1 Axes>"
            ]
          },
          "metadata": {
            "tags": [],
            "needs_background": "light"
          }
        }
      ]
    },
    {
      "cell_type": "markdown",
      "metadata": {
        "id": "KoKJoq4omRB-"
      },
      "source": [
        "## Sample random MLPs and pass the inputs through"
      ]
    },
    {
      "cell_type": "code",
      "metadata": {
        "colab": {
          "base_uri": "https://localhost:8080/",
          "height": 202,
          "referenced_widgets": [
            "12a2caf63b774ac08c5fe83b6182d0d4",
            "80725adac7fc406d9c13d0ddd3f86ddc",
            "6efe2622be234b789fdba73eacf59cf8",
            "f55ac1c2761d4fbfa00f20b0bb271ba6",
            "12cd56d1a18e4822a4c75dd23dae7c8e",
            "54873b0dd76742d1ad1aab1a126f34be",
            "94ca3e2a79174707afb417c094dc57bd",
            "a960eb13084b4790861a229280d4424b"
          ]
        },
        "id": "zdvat3o_mY8J",
        "outputId": "57be8f14-3097-4358-81ad-7d562f434600"
      },
      "source": [
        "net = MLP(width=1000,depth=3)\n",
        "\n",
        "print(\"The network matrices have shapes:\\n\")\n",
        "for p in net.parameters():\n",
        "    print(p.shape)\n",
        "\n",
        "print(\"\\nSampling random networks...\\n\")\n",
        "\n",
        "num_inputs = input.shape[0]\n",
        "num_random_networks = 1000\n",
        "output = torch.zeros(num_inputs, num_random_networks)\n",
        "\n",
        "for network_idx in tqdm(range(num_random_networks)):\n",
        "    \n",
        "    # randomly sample network weights\n",
        "    for p in net.parameters():\n",
        "        p.data = torch.randn_like(p) / math.sqrt(p.shape[1])\n",
        "    \n",
        "    # pass input through network\n",
        "    output[:, network_idx] = net(input).squeeze().detach()"
      ],
      "execution_count": 4,
      "outputs": [
        {
          "output_type": "stream",
          "text": [
            "The network matrices have shapes:\n",
            "\n",
            "torch.Size([1000, 3072])\n",
            "torch.Size([1000, 1000])\n",
            "torch.Size([1, 1000])\n",
            "\n",
            "Sampling random networks...\n",
            "\n"
          ],
          "name": "stdout"
        },
        {
          "output_type": "display_data",
          "data": {
            "application/vnd.jupyter.widget-view+json": {
              "model_id": "12a2caf63b774ac08c5fe83b6182d0d4",
              "version_minor": 0,
              "version_major": 2
            },
            "text/plain": [
              "HBox(children=(FloatProgress(value=0.0, max=1000.0), HTML(value='')))"
            ]
          },
          "metadata": {
            "tags": []
          }
        },
        {
          "output_type": "stream",
          "text": [
            "\n"
          ],
          "name": "stdout"
        }
      ]
    },
    {
      "cell_type": "markdown",
      "metadata": {
        "id": "XRu8LQ8l7BZW"
      },
      "source": [
        "## TODO: compute the sample covariance of outputs\n",
        "Hint: use Pytorch built-in functions. We implemented this in 3 lines of code."
      ]
    },
    {
      "cell_type": "code",
      "metadata": {
        "id": "opKOFaOJ67Bq",
        "colab": {
          "base_uri": "https://localhost:8080/"
        },
        "outputId": "9babbd97-7ceb-4da7-b496-66185f287059"
      },
      "source": [
        "emp_cov = np.zeros((4, 4))\n",
        "N = output.shape[1]\n",
        "for i in range(4):\n",
        "  for j in range(4):\n",
        "    emp_cov[i][j] = torch.dot(output[i] - torch.mean(output[i]), output[j] - torch.mean(output[j]))/(N-1)\n",
        "    # emp_cov[i][j] = torch.dot(output[i], output[j])/(N-1)\n",
        "print(emp_cov)"
      ],
      "execution_count": 26,
      "outputs": [
        {
          "output_type": "stream",
          "text": [
            "[[1.02037466 1.0158937  0.93269086 0.87496471]\n",
            " [1.0158937  1.01829314 0.93032694 0.87258172]\n",
            " [0.93269086 0.93032694 0.9652372  0.82739013]\n",
            " [0.87496471 0.87258172 0.82739013 1.00073397]]\n"
          ],
          "name": "stdout"
        }
      ]
    },
    {
      "cell_type": "markdown",
      "metadata": {
        "id": "6vi7DCEQ7D0A"
      },
      "source": [
        "## TODO: compute the theoretical output covariance\n",
        "Hint: we implemented this in one line."
      ]
    },
    {
      "cell_type": "code",
      "metadata": {
        "id": "C9F-Ygio7U7E",
        "colab": {
          "base_uri": "https://localhost:8080/"
        },
        "outputId": "06071726-ec3c-4bb1-a7dc-db416e674052"
      },
      "source": [
        "# the following function may help you. It operates elementwise on Pytorch tensors.\n",
        "def h(t):\n",
        "    t = t.clamp(min=-1, max=1) # sanitise the input\n",
        "    return 1/math.pi * ((1-t**2).sqrt() + t*(math.pi - t.acos()))\n",
        "\n",
        "theory_cov = np.zeros((4, 4))\n",
        "L = len(net.layers) + 2\n",
        "print(input.shape)\n",
        "for i in range(4):\n",
        "  for j in range(4):\n",
        "    val = torch.dot(output[i], output[j])/input.shape[1]\n",
        "    for _ in range(L - 1):\n",
        "      val = h(val)\n",
        "    theory_cov[i][j] = val\n",
        "print(theory_cov)"
      ],
      "execution_count": 32,
      "outputs": [
        {
          "output_type": "stream",
          "text": [
            "torch.Size([4, 3072])\n",
            "[[0.61033928 0.60975873 0.59890366 0.59154725]\n",
            " [0.60975873 0.61008662 0.59860724 0.59125412]\n",
            " [0.59890366 0.59860724 0.60309643 0.58555871]\n",
            " [0.59154725 0.59125412 0.58555871 0.60773647]]\n"
          ],
          "name": "stdout"
        }
      ]
    }
  ]
}